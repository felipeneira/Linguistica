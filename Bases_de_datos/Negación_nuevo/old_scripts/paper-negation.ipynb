{
 "cells": [
  {
   "cell_type": "markdown",
   "metadata": {},
   "source": [
    "## Datos Lenguas Andinas"
   ]
  },
  {
   "cell_type": "code",
   "execution_count": 1,
   "metadata": {},
   "outputs": [],
   "source": [
    "## juntemos todo en una sola función :)\n",
    "import pandas as pd"
   ]
  },
  {
   "cell_type": "code",
   "execution_count": 2,
   "metadata": {},
   "outputs": [],
   "source": [
    "ms = pd.read_csv(\"marking_strategy.csv\", sep=\";\")\n",
    "cs = pd.read_csv(\"constructional_structure.csv\", sep=\";\")\n",
    "cs = cs.drop(columns = ['Andean'])"
   ]
  },
  {
   "cell_type": "code",
   "execution_count": 3,
   "metadata": {},
   "outputs": [],
   "source": [
    "andes = pd.merge(ms,cs, on='Language')"
   ]
  },
  {
   "cell_type": "code",
   "execution_count": 4,
   "metadata": {},
   "outputs": [],
   "source": [
    "andes = andes.to_dict(orient='split')\n",
    "andes = andes['data']"
   ]
  },
  {
   "cell_type": "code",
   "execution_count": 5,
   "metadata": {},
   "outputs": [],
   "source": [
    "andes = {lengua[1]:lengua[2:] for lengua in andes if lengua[0] == 1}"
   ]
  },
  {
   "cell_type": "code",
   "execution_count": 6,
   "metadata": {
    "scrolled": true
   },
   "outputs": [],
   "source": [
    "andes = {key.lower():value for key,value in andes.items()}"
   ]
  },
  {
   "cell_type": "code",
   "execution_count": 7,
   "metadata": {
    "scrolled": true
   },
   "outputs": [
    {
     "ename": "NameError",
     "evalue": "name 'D' is not defined",
     "output_type": "error",
     "traceback": [
      "\u001b[1;31m---------------------------------------------------------------------------\u001b[0m",
      "\u001b[1;31mNameError\u001b[0m                                 Traceback (most recent call last)",
      "Cell \u001b[1;32mIn[7], line 1\u001b[0m\n\u001b[1;32m----> 1\u001b[0m \u001b[43mD\u001b[49m\n",
      "\u001b[1;31mNameError\u001b[0m: name 'D' is not defined"
     ]
    }
   ],
   "source": [
    "D"
   ]
  },
  {
   "cell_type": "code",
   "execution_count": null,
   "metadata": {},
   "outputs": [],
   "source": [
    "andes"
   ]
  },
  {
   "cell_type": "code",
   "execution_count": null,
   "metadata": {
    "scrolled": true
   },
   "outputs": [],
   "source": [
    "len(andes)"
   ]
  },
  {
   "cell_type": "markdown",
   "metadata": {},
   "source": [
    "### mapas"
   ]
  },
  {
   "cell_type": "code",
   "execution_count": null,
   "metadata": {},
   "outputs": [],
   "source": [
    "import pandas as pd\n",
    "\n",
    "lenguas_glotto = pd.read_csv('languoid.csv',sep=',',encoding='utf-8')\n"
   ]
  },
  {
   "cell_type": "code",
   "execution_count": null,
   "metadata": {},
   "outputs": [],
   "source": [
    "lenguas_glotto[10:]"
   ]
  },
  {
   "cell_type": "code",
   "execution_count": null,
   "metadata": {},
   "outputs": [],
   "source": [
    "changes = {'amar1274':'hara1260','trio1238':'kawe1237','alac1240':'tiri1260','wich1264':'wich1261'}\n",
    "for code in changes.keys():\n",
    "    lenguas_glotto.loc[(lenguas_glotto.id == code),'id']=changes[code]"
   ]
  },
  {
   "cell_type": "code",
   "execution_count": null,
   "metadata": {},
   "outputs": [],
   "source": [
    "lenguas_glotto['ubicacion'] = lenguas_glotto['latitude'].astype(str) + '/' + lenguas_glotto['longitude'].astype(str)\n",
    "lenguas_glotto = lenguas_glotto.drop(columns = ['latitude','longitude'])"
   ]
  },
  {
   "cell_type": "code",
   "execution_count": null,
   "metadata": {},
   "outputs": [],
   "source": [
    "glotto_coordinates = dict(zip([name.lower() for name in lenguas_glotto['id']],lenguas_glotto['ubicacion']))\n",
    "glotto_coordinates"
   ]
  },
  {
   "cell_type": "code",
   "execution_count": null,
   "metadata": {},
   "outputs": [],
   "source": [
    "glotto_coordinates = {key:glotto_coordinates[key].split(' / ') for key in glotto_coordinates.keys()}"
   ]
  },
  {
   "cell_type": "code",
   "execution_count": null,
   "metadata": {},
   "outputs": [],
   "source": [
    "glotto_coordinates['mill1237']=['-6.68', '-73.24']\n",
    "glotto_coordinates['alle1238']=['3.11', '-66.24']"
   ]
  },
  {
   "cell_type": "code",
   "execution_count": null,
   "metadata": {},
   "outputs": [],
   "source": [
    "lenguas_glotto = dict(zip([name.lower() for name in lenguas_glotto['name']],lenguas_glotto['id']))"
   ]
  },
  {
   "cell_type": "code",
   "execution_count": null,
   "metadata": {},
   "outputs": [],
   "source": [
    "lenguas_glotto = {key:lenguas_glotto[key] for key in lenguas_glotto.keys() if key in andes.keys()}"
   ]
  },
  {
   "cell_type": "code",
   "execution_count": null,
   "metadata": {},
   "outputs": [],
   "source": [
    "len(lenguas_glotto)"
   ]
  },
  {
   "cell_type": "code",
   "execution_count": null,
   "metadata": {},
   "outputs": [],
   "source": [
    "faltan = [item for item in list(andes.keys()) if item not in list(lenguas_glotto.keys())]"
   ]
  },
  {
   "cell_type": "code",
   "execution_count": null,
   "metadata": {},
   "outputs": [],
   "source": [
    "faltan"
   ]
  },
  {
   "cell_type": "code",
   "execution_count": null,
   "metadata": {},
   "outputs": [],
   "source": [
    "glotto_lenguas = {v: k for k, v in lenguas_glotto.items()}"
   ]
  },
  {
   "cell_type": "code",
   "execution_count": null,
   "metadata": {},
   "outputs": [],
   "source": [
    "## miramos languoids\n",
    "\n",
    "languoid = pd.read_csv('Languages.csv',sep=',')"
   ]
  },
  {
   "cell_type": "code",
   "execution_count": null,
   "metadata": {},
   "outputs": [],
   "source": [
    "languoid"
   ]
  },
  {
   "cell_type": "code",
   "execution_count": null,
   "metadata": {},
   "outputs": [],
   "source": [
    "languoid = languoid[languoid['ID'].isin(lenguas_glotto.values())]"
   ]
  },
  {
   "cell_type": "code",
   "execution_count": null,
   "metadata": {},
   "outputs": [],
   "source": [
    "languoid"
   ]
  },
  {
   "cell_type": "code",
   "execution_count": null,
   "metadata": {},
   "outputs": [],
   "source": [
    "len(languoid)"
   ]
  },
  {
   "cell_type": "code",
   "execution_count": null,
   "metadata": {},
   "outputs": [],
   "source": [
    "for i in languoid.index:\n",
    "    if languoid.isnull().loc[i,'Latitude']:\n",
    "        code=languoid.loc[i,'ID']\n",
    "        print(code)\n",
    "        if glotto_coordinates[code][0]!='/':\n",
    "            languoid.at[i, 'Latitude'] = glotto_coordinates[code][0]\n",
    "            languoid.at[i, 'Longitude'] = glotto_coordinates[code][1]"
   ]
  },
  {
   "cell_type": "code",
   "execution_count": null,
   "metadata": {},
   "outputs": [],
   "source": [
    "languoid"
   ]
  },
  {
   "cell_type": "code",
   "execution_count": null,
   "metadata": {},
   "outputs": [],
   "source": [
    "import geopandas"
   ]
  },
  {
   "cell_type": "code",
   "execution_count": null,
   "metadata": {},
   "outputs": [],
   "source": [
    "import descartes"
   ]
  },
  {
   "cell_type": "code",
   "execution_count": null,
   "metadata": {},
   "outputs": [],
   "source": [
    "world = geopandas.read_file(geopandas.datasets.get_path('naturalearth_lowres'))"
   ]
  },
  {
   "cell_type": "code",
   "execution_count": null,
   "metadata": {},
   "outputs": [],
   "source": [
    "world = world[world['continent']=='South America']"
   ]
  },
  {
   "cell_type": "code",
   "execution_count": null,
   "metadata": {},
   "outputs": [],
   "source": [
    "x, y, codes = languoid['Longitude'].values, languoid['Latitude'].values, languoid['ID'].values"
   ]
  },
  {
   "cell_type": "code",
   "execution_count": null,
   "metadata": {},
   "outputs": [],
   "source": [
    "len(x)"
   ]
  },
  {
   "cell_type": "code",
   "execution_count": null,
   "metadata": {},
   "outputs": [],
   "source": [
    "import matplotlib.pyplot as plt\n",
    "\n",
    "fig, ax = plt.subplots(dpi=800)\n",
    "\n",
    "ax.set_aspect('equal')\n",
    "plt.title('Languages of South America',fontsize=7)\n",
    "world.plot(ax=ax, color='white', edgecolor='salmon',linewidth=0.2)\n",
    "#cities.plot(ax=ax, marker='o', color='red', markersize=5)\n",
    "ax.plot(x, y, marker='o',color='gold',linewidth=0,markersize=4,markeredgewidth=0.25,markeredgecolor='k',alpha=0.75)\n",
    "annotate = True\n",
    "if annotate == True:\n",
    "    for i in range(len(x)):\n",
    "        ax.annotate(codes[i], weight='demi', color='k', xy=(x[i],y[i]), fontsize=1.5, alpha=0.65)\n",
    "ax.set_yticks([])\n",
    "ax.set_xticks([])\n",
    "plt.savefig('maps/mapa'+str(annotate)+'.jpg', format='jpg', transparent=True, bbox_inches='tight',dpi=800)\n",
    "plt.show()"
   ]
  },
  {
   "cell_type": "code",
   "execution_count": null,
   "metadata": {},
   "outputs": [],
   "source": [
    "Dcodes = {lenguas_glotto[key]:D[key] for key in D.keys()}"
   ]
  },
  {
   "cell_type": "code",
   "execution_count": null,
   "metadata": {},
   "outputs": [],
   "source": [
    "rasgos = []\n",
    "\n",
    "for key in Dcodes.keys():\n",
    "    rasgos+=list(Dcodes[key].keys())\n",
    "rasgos = list(set(rasgos))"
   ]
  },
  {
   "cell_type": "code",
   "execution_count": null,
   "metadata": {},
   "outputs": [],
   "source": [
    "rasgos"
   ]
  },
  {
   "cell_type": "code",
   "execution_count": null,
   "metadata": {},
   "outputs": [],
   "source": [
    "def values_per_feature(DD,f):\n",
    "    DDD = {}\n",
    "    for key in DD.keys():\n",
    "        if f in DD[key].keys():\n",
    "            DDD[key]=DD[key][f]\n",
    "    return DDD"
   ]
  },
  {
   "cell_type": "code",
   "execution_count": null,
   "metadata": {},
   "outputs": [],
   "source": [
    "values_per_feature(Dcodes,'4_4')"
   ]
  },
  {
   "cell_type": "code",
   "execution_count": null,
   "metadata": {},
   "outputs": [],
   "source": [
    "import matplotlib.pyplot as plt\n",
    "\n",
    "dict_color = {'1':{'marker':'X','color':'m'},'2':{'marker':'o','color':'b'},'3':{'marker':'s','color':'r'},\n",
    "             '4':{'marker':'D','color':'cyan'},'5':{'marker':'*','color':'yellow'},'6':{'marker':'^','color':'fuchsia'},\n",
    "             '7':{'marker':'v','color':'olive'},'8':{'marker':'p','color':'lime'},'9':{'marker':'H','color':'salmon'}}\n",
    "\n",
    "for rasgo in rasgos:\n",
    "    \n",
    "    fig, ax = plt.subplots(dpi=800)\n",
    "\n",
    "    ax.set_aspect('equal')\n",
    "    plt.title('Languages for the negation domain: feature '+rasgo[2:],fontsize=5)\n",
    "    world.plot(ax=ax, color='white', edgecolor='black',linewidth=0.2)\n",
    "#cities.plot(ax=ax, marker='o', color='red', markersize=5)\n",
    "#ax.scatter(x, y, marker=\"o\", color='gold', alpha=1., zorder=5, s=10)\n",
    "    for f in set(values_per_feature(Dcodes,rasgo).values()):\n",
    "        \n",
    "        ax.plot([x[i] for i in [list(codes).index(language) for language in codes if language in values_per_feature(Dcodes,rasgo).keys() and values_per_feature(Dcodes,rasgo)[language]==f]],[y[i] for i in [list(codes).index(language) for language in codes if language in values_per_feature(Dcodes,rasgo).keys() and values_per_feature(Dcodes,rasgo)[language]==f]],marker=dict_color[str(f)]['marker'],color=dict_color[str(f)]['color'],linewidth=0,markersize=5,markeredgewidth=0.5,markeredgecolor='k',alpha=0.75,fillstyle='full',clip_on=True,label='value '+str(f))\n",
    "    plt.legend(loc='best',fontsize=5)\n",
    "\n",
    "    ax.set_yticks([])\n",
    "    ax.set_xticks([])\n",
    "    plt.savefig('maps/mapa_rasgo'+rasgo +'.jpg', format='jpg', transparent=True, bbox_inches='tight',dpi=800)\n",
    "    plt.show()"
   ]
  },
  {
   "cell_type": "markdown",
   "metadata": {},
   "source": [
    "### ¿Cómo se distribuyen las lenguas según el número de rasgos?"
   ]
  },
  {
   "cell_type": "code",
   "execution_count": null,
   "metadata": {},
   "outputs": [],
   "source": [
    "from collections import Counter\n",
    "\n",
    "def distribucion(D):\n",
    "    D_rasgos = {lengua:{} for lengua in D.keys()}\n",
    "    for lengua in D.keys():\n",
    "        for lengualengua in D.keys():\n",
    "            features=list(D.values())\n",
    "            features=[len(item) for item in features]\n",
    "    C=dict(Counter(features))\n",
    "    keys = sorted(C.keys())\n",
    "    DD = {}\n",
    "    for key in keys:\n",
    "        x = 0\n",
    "        for keykey in C.keys():\n",
    "            if keykey>=key:\n",
    "                x+=C[keykey]\n",
    "        DD[key]=x\n",
    "    return DD"
   ]
  },
  {
   "cell_type": "code",
   "execution_count": null,
   "metadata": {},
   "outputs": [],
   "source": [
    "distribucion(D)"
   ]
  },
  {
   "cell_type": "markdown",
   "metadata": {},
   "source": [
    "## Representaciones"
   ]
  },
  {
   "cell_type": "code",
   "execution_count": null,
   "metadata": {},
   "outputs": [],
   "source": [
    "## filtramos los datos leídos\n",
    "\n",
    "def filter_rasgos_comun(D,num_rasgos):\n",
    "    \n",
    "    ## buscamos los rasgos en común\n",
    "    rasgos_comunes = [list(item.keys()) for item in D.values() if len(item)>num_rasgos]\n",
    "    ## intersectamos todos los conjuntos de rasgos sujetos a la condición len(item)>num_rasgos\n",
    "    rasgos_comunes = set(rasgos_comunes[0]).intersection(*rasgos_comunes)\n",
    "    ## restringimos D\n",
    "    D = {lengua:{key:D[lengua][key] for key in rasgos_comunes} for lengua in D.keys() if len(D[lengua])>num_rasgos}\n",
    "    return D"
   ]
  },
  {
   "cell_type": "code",
   "execution_count": null,
   "metadata": {},
   "outputs": [],
   "source": [
    "D = read_lenguas_andinas('TabladeDatos.csv','andean languages.csv',4)"
   ]
  },
  {
   "cell_type": "code",
   "execution_count": null,
   "metadata": {},
   "outputs": [],
   "source": [
    "D"
   ]
  },
  {
   "cell_type": "code",
   "execution_count": null,
   "metadata": {},
   "outputs": [],
   "source": [
    "def binarizer(D):\n",
    "    B = {lengua:{} for lengua in D.keys()}\n",
    "    for lengua in D.keys():\n",
    "        for key in D[lengua].keys():\n",
    "            B[lengua][key+'_'+str(D[lengua][key])]=1\n",
    "            \n",
    "    ## recolectamos los keys :)\n",
    "    \n",
    "    keys = []\n",
    "    for lengua in B.keys():\n",
    "        for key in B[lengua].keys():\n",
    "            if key not in keys:\n",
    "                keys+=[key]\n",
    "                \n",
    "    C = {lengua:{} for lengua in D.keys()}\n",
    "    for lengua in D.keys():\n",
    "        for key in D[lengua].keys():\n",
    "            C[lengua][key+'_'+str(D[lengua][key])]=1\n",
    "            for keykey in keys:\n",
    "                if keykey.startswith(key):\n",
    "                    if key+'_'+str(D[lengua][key])!=keykey:\n",
    "                        C[lengua][keykey]=0\n",
    "    \n",
    "    return C"
   ]
  },
  {
   "cell_type": "code",
   "execution_count": null,
   "metadata": {},
   "outputs": [],
   "source": [
    "#D=binarizer(D)"
   ]
  },
  {
   "cell_type": "code",
   "execution_count": null,
   "metadata": {},
   "outputs": [],
   "source": [
    "D['mapudungun']"
   ]
  },
  {
   "cell_type": "code",
   "execution_count": null,
   "metadata": {},
   "outputs": [],
   "source": [
    "Ks = {'4_1':0,'4_2':0,'4_3':0,'4_4':0}\n",
    "\n",
    "for key in Ks:\n",
    "    for keykey in D['mapudungun'].keys():\n",
    "        if keykey.startswith(key):\n",
    "            Ks[key]+=1"
   ]
  },
  {
   "cell_type": "code",
   "execution_count": null,
   "metadata": {},
   "outputs": [],
   "source": [
    "Ks"
   ]
  },
  {
   "cell_type": "code",
   "execution_count": null,
   "metadata": {},
   "outputs": [],
   "source": [
    "len(D['mochica'])"
   ]
  },
  {
   "cell_type": "markdown",
   "metadata": {},
   "source": [
    "## Distancias inter e intra área!"
   ]
  },
  {
   "cell_type": "code",
   "execution_count": null,
   "metadata": {},
   "outputs": [],
   "source": [
    "areas = pd.read_csv('areas.csv',sep=',')\n",
    "lenguas = [name.lower() for name in list(areas['lengua'])]\n",
    "areas_dict = {}\n",
    "for i in list(areas.index):\n",
    "    if areas.loc[i,'lengua'].lower()=='moseten':\n",
    "        areas_dict['moseten']=[areas.loc[i,'sub-area'].lower(),areas.loc[i,'area'].lower()]\n",
    "    else:\n",
    "        areas_dict[areas.loc[i,'lengua'].lower()]=[areas.loc[i,'sub-area'].lower().strip(),areas.loc[i,'area'].lower().strip()]"
   ]
  },
  {
   "cell_type": "code",
   "execution_count": null,
   "metadata": {},
   "outputs": [],
   "source": [
    "areas_dict"
   ]
  },
  {
   "cell_type": "code",
   "execution_count": null,
   "metadata": {},
   "outputs": [],
   "source": [
    "areas"
   ]
  },
  {
   "cell_type": "code",
   "execution_count": null,
   "metadata": {},
   "outputs": [],
   "source": [
    "area_dict = {language:areas_dict[language][1] for language in areas_dict.keys()}\n",
    "subarea_dict = {language:areas_dict[language][0] for language in areas_dict.keys()}"
   ]
  },
  {
   "cell_type": "code",
   "execution_count": null,
   "metadata": {},
   "outputs": [],
   "source": [
    "import random\n",
    "from collections import defaultdict\n",
    "\n",
    "area_random = []\n",
    "\n",
    "keys = list(area_dict.keys())\n",
    "for i in range(1000):\n",
    "    values = list(area_dict.values())\n",
    "    values = random.sample(values,len(values))\n",
    "    d=dict(zip(keys,values))\n",
    "    \n",
    "    v = defaultdict(list)\n",
    "    for key, value in sorted(d.items()):\n",
    "        v[value].append(key)\n",
    "        \n",
    "    area_random+=[{area:[l for l in dict(v)[area] if l in D.keys()] for area in dict(v).keys()}]"
   ]
  },
  {
   "cell_type": "code",
   "execution_count": null,
   "metadata": {},
   "outputs": [],
   "source": [
    "subarea_random = []\n",
    "\n",
    "keys = list(subarea_dict.keys())\n",
    "for i in range(1000):\n",
    "    values = list(subarea_dict.values())\n",
    "    values = random.sample(values,len(values))\n",
    "    d=dict(zip(keys,values))\n",
    "    \n",
    "    v = defaultdict(list)\n",
    "    for key, value in sorted(d.items()):\n",
    "        v[value].append(key)\n",
    "        \n",
    "    subarea_random+=[{area:[l for l in dict(v)[area] if l in D.keys()] for area in dict(v).keys()}]"
   ]
  },
  {
   "cell_type": "code",
   "execution_count": null,
   "metadata": {},
   "outputs": [],
   "source": [
    "from collections import defaultdict\n",
    "\n",
    "v = defaultdict(list)\n",
    "\n",
    "for key, value in sorted(area_dict.items()):\n",
    "    v[value].append(key)\n",
    "\n",
    "group_area = {area:[l for l in dict(v)[area] if l in D.keys()] for area in dict(v).keys()}"
   ]
  },
  {
   "cell_type": "code",
   "execution_count": null,
   "metadata": {},
   "outputs": [],
   "source": [
    "group_area"
   ]
  },
  {
   "cell_type": "code",
   "execution_count": null,
   "metadata": {},
   "outputs": [],
   "source": [
    "v = defaultdict(list)\n",
    "\n",
    "for key, value in sorted(subarea_dict.items()):\n",
    "    v[value].append(key)\n",
    "\n",
    "group_subarea = {area:[l for l in dict(v)[area] if l in D.keys()] for area in dict(v).keys()}"
   ]
  },
  {
   "cell_type": "code",
   "execution_count": null,
   "metadata": {},
   "outputs": [],
   "source": [
    "for group in group_subarea.keys():\n",
    "    print(group,len(group_subarea[group]))"
   ]
  },
  {
   "cell_type": "code",
   "execution_count": null,
   "metadata": {},
   "outputs": [],
   "source": [
    "## distancia de Hamming \n",
    "\n",
    "def hamming(lengua1, lengua2):\n",
    "    \n",
    "    ## rasgos\n",
    "    features_lengua1=D[lengua1]\n",
    "    features_lengua2=D[lengua2]\n",
    "    \n",
    "    ## hamming!\n",
    "    d=0\n",
    "    n=0\n",
    "    for feature in features_lengua1.keys():\n",
    "        if feature in features_lengua2.keys(): \n",
    "            if features_lengua1[feature] != features_lengua2[feature]:\n",
    "                d += 1.0\n",
    "            n += 1.0\n",
    "            \n",
    "    return d/n"
   ]
  },
  {
   "cell_type": "code",
   "execution_count": null,
   "metadata": {},
   "outputs": [],
   "source": [
    "D['mapudungun'],D['selknam']"
   ]
  },
  {
   "cell_type": "code",
   "execution_count": null,
   "metadata": {},
   "outputs": [],
   "source": [
    "import itertools\n",
    "\n",
    "def distancias_group(dict_group):\n",
    "    D = {area:{} for area in dict_group.keys()}\n",
    "    for area in dict_group.keys():\n",
    "        for areaarea in dict_group.keys():\n",
    "            lenguas = dict_group[area]\n",
    "            lenguas_comp = dict_group[areaarea]\n",
    "            L = [lenguas,lenguas_comp]\n",
    "            pairs = list(itertools.product(*L))\n",
    "            distances = 0\n",
    "            for pair in pairs:\n",
    "                distances+=hamming(pair[0],pair[1])\n",
    "            distances = distances/len(pairs)\n",
    "            D[area][areaarea]=distances\n",
    "\n",
    "    return D"
   ]
  },
  {
   "cell_type": "code",
   "execution_count": null,
   "metadata": {},
   "outputs": [],
   "source": [
    "distancias_area = distancias_group(group_area)"
   ]
  },
  {
   "cell_type": "code",
   "execution_count": null,
   "metadata": {},
   "outputs": [],
   "source": [
    "distancias_area"
   ]
  },
  {
   "cell_type": "code",
   "execution_count": null,
   "metadata": {},
   "outputs": [],
   "source": [
    "distancias_area_random = [distancias_group(d) for d in area_random]"
   ]
  },
  {
   "cell_type": "code",
   "execution_count": null,
   "metadata": {},
   "outputs": [],
   "source": [
    "distancias_area_random[100]"
   ]
  },
  {
   "cell_type": "code",
   "execution_count": null,
   "metadata": {},
   "outputs": [],
   "source": [
    "import seaborn as sns\n",
    "import matplotlib.pyplot as plt\n",
    "from scipy import stats\n",
    "\n",
    "print(stats.ttest_1samp([d['chaco']['chaco'] for d in distancias_area_random], distancias_area['chaco']['chaco'],alternative=\"less\"))\n",
    "\n",
    "fig, ax = plt.subplots(dpi=800)\n",
    "ax = sns.distplot([d['chaco']['chaco'] for d in distancias_area_random],kde_kws={\"color\": \"k\", \"lw\": 1, \"label\": \"randomized Chaco\"},\n",
    "                  hist_kws={\"histtype\": \"step\", \"linewidth\": 1,\n",
    "                            \"alpha\": 1, \"color\": \"g\"})\n",
    "\n",
    "plt.axvline(x=distancias_area['chaco']['chaco'],linestyle='--',color='gold',label=r'Chaco')\n",
    "plt.legend(loc='best',fontsize=7)\n",
    "plt.xlabel(r'Hamming distance',fontsize=15)\n",
    "plt.ylabel(r'frequency',fontsize=15)\n",
    "plt.rcParams.update({'font.size': 10})\n",
    "plt.savefig('chacovschaco.jpg', format='jpg', transparent=True, bbox_inches='tight',dpi=800)\n",
    "plt.show()"
   ]
  },
  {
   "cell_type": "code",
   "execution_count": null,
   "metadata": {},
   "outputs": [],
   "source": [
    "import seaborn as sns\n",
    "import matplotlib.pyplot as plt\n",
    "from scipy import stats\n",
    "\n",
    "print(stats.ttest_1samp([d['andes']['andes'] for d in distancias_area_random], distancias_area['andes']['andes'],alternative=\"greater\"))\n",
    "\n",
    "fig, ax = plt.subplots(dpi=800)\n",
    "ax = sns.distplot([d['andes']['andes'] for d in distancias_area_random],kde_kws={\"color\": \"k\", \"lw\": 1, \"label\": \"randomized Andes\"},\n",
    "                  hist_kws={\"histtype\": \"step\", \"linewidth\": 1,\n",
    "                            \"alpha\": 1, \"color\": \"g\"})\n",
    "\n",
    "plt.axvline(x=distancias_area['andes']['andes'],linestyle='--',color='gold',label=r'Andes')\n",
    "plt.legend(loc='best',fontsize=7)\n",
    "plt.xlabel(r'Hamming distance',fontsize=15)\n",
    "plt.ylabel(r'frequency',fontsize=15)\n",
    "plt.rcParams.update({'font.size': 10})\n",
    "plt.savefig('andesvsandes.jpg', format='jpg', transparent=True, bbox_inches='tight',dpi=800)\n",
    "plt.show()"
   ]
  },
  {
   "cell_type": "code",
   "execution_count": null,
   "metadata": {},
   "outputs": [],
   "source": [
    "import seaborn as sns\n",
    "import matplotlib.pyplot as plt\n",
    "from scipy import stats\n",
    "\n",
    "print(stats.ttest_1samp([d['amazonia']['amazonia'] for d in distancias_area_random], distancias_area['amazonia']['amazonia'],alternative=\"greater\"))\n",
    "\n",
    "fig, ax = plt.subplots(dpi=800)\n",
    "ax = sns.distplot([d['amazonia']['amazonia'] for d in distancias_area_random],kde_kws={\"color\": \"k\", \"lw\": 1, \"label\": \"randomized Amazonia\"},\n",
    "                  hist_kws={\"histtype\": \"step\", \"linewidth\": 1,\n",
    "                            \"alpha\": 1, \"color\": \"g\"})\n",
    "\n",
    "plt.axvline(x=distancias_area['amazonia']['amazonia'],linestyle='--',color='gold',label=r'Amazonia')\n",
    "plt.legend(loc='best',fontsize=7)\n",
    "plt.xlabel(r'Hamming distance',fontsize=15)\n",
    "plt.ylabel(r'frequency',fontsize=15)\n",
    "plt.rcParams.update({'font.size': 10})\n",
    "plt.savefig('amazoniavsamazonia.jpg', format='jpg', transparent=True, bbox_inches='tight',dpi=800)\n",
    "plt.show()"
   ]
  },
  {
   "cell_type": "code",
   "execution_count": null,
   "metadata": {},
   "outputs": [],
   "source": [
    "distancias_subarea = distancias_group(group_subarea)"
   ]
  },
  {
   "cell_type": "code",
   "execution_count": null,
   "metadata": {},
   "outputs": [],
   "source": [
    "distancias_subarea"
   ]
  },
  {
   "cell_type": "code",
   "execution_count": null,
   "metadata": {},
   "outputs": [],
   "source": [
    "distancias_subarea_random = [distancias_group(d) for d in subarea_random]"
   ]
  },
  {
   "cell_type": "code",
   "execution_count": null,
   "metadata": {},
   "outputs": [],
   "source": [
    "distancias_subarea_random[100]"
   ]
  },
  {
   "cell_type": "code",
   "execution_count": null,
   "metadata": {},
   "outputs": [],
   "source": [
    "import seaborn as sns\n",
    "import matplotlib.pyplot as plt\n",
    "from scipy import stats\n",
    "\n",
    "print(stats.ttest_1samp([d['central andes']['central andes'] for d in distancias_subarea_random], distancias_subarea['central andes']['central andes'],alternative=\"greater\"))\n",
    "\n",
    "fig, ax = plt.subplots(dpi=800)\n",
    "ax = sns.distplot([d['central andes']['central andes'] for d in distancias_subarea_random],kde_kws={\"color\": \"k\", \"lw\": 1, \"label\": \"randomized Central Andes\"},\n",
    "                  hist_kws={\"histtype\": \"step\", \"linewidth\": 1,\n",
    "                            \"alpha\": 1, \"color\": \"g\"})\n",
    "\n",
    "plt.axvline(x=distancias_subarea['central andes']['central andes'],linestyle='--',color='gold',label=r'Central Andes')\n",
    "plt.legend(loc='best',fontsize=7)\n",
    "plt.xlabel(r'Hamming distance',fontsize=15)\n",
    "plt.ylabel(r'frequency',fontsize=15)\n",
    "plt.rcParams.update({'font.size': 10})\n",
    "plt.savefig('centralandes.jpg', format='jpg', transparent=True, bbox_inches='tight',dpi=800)\n",
    "plt.show()"
   ]
  },
  {
   "cell_type": "code",
   "execution_count": null,
   "metadata": {},
   "outputs": [],
   "source": [
    "import seaborn as sns\n",
    "import matplotlib.pyplot as plt\n",
    "from scipy import stats\n",
    "\n",
    "print(stats.ttest_1samp([d['central andes']['northern andes'] for d in distancias_subarea_random], distancias_subarea['central andes']['northern andes'],alternative=\"greater\"))\n",
    "\n",
    "fig, ax = plt.subplots(dpi=800)\n",
    "ax = sns.distplot([d['central andes']['northern andes'] for d in distancias_subarea_random],kde_kws={\"color\": \"k\", \"lw\": 1, \"label\": \"randomized Central vs. Northern Andes\"},\n",
    "                  hist_kws={\"histtype\": \"step\", \"linewidth\": 1,\n",
    "                            \"alpha\": 1, \"color\": \"g\"})\n",
    "\n",
    "plt.axvline(x=distancias_subarea['central andes']['northern andes'],linestyle='--',color='gold',label=r'Central vs. Northern Andes')\n",
    "plt.legend(loc='best',fontsize=7)\n",
    "plt.xlabel(r'Hamming distance',fontsize=15)\n",
    "plt.ylabel(r'frequency',fontsize=15)\n",
    "plt.rcParams.update({'font.size': 10})\n",
    "plt.savefig('centralvsnorthernandes.jpg', format='jpg', transparent=True, bbox_inches='tight',dpi=800)\n",
    "plt.show()"
   ]
  },
  {
   "cell_type": "code",
   "execution_count": null,
   "metadata": {},
   "outputs": [],
   "source": [
    "import seaborn as sns\n",
    "import matplotlib.pyplot as plt\n",
    "from scipy import stats\n",
    "\n",
    "print(stats.ttest_1samp([d['central andes']['southern andes'] for d in distancias_subarea_random], distancias_subarea['central andes']['southern andes'],alternative=\"greater\"))\n",
    "\n",
    "fig, ax = plt.subplots(dpi=800)\n",
    "ax = sns.distplot([d['central andes']['southern andes'] for d in distancias_subarea_random],kde_kws={\"color\": \"k\", \"lw\": 1, \"label\": \"randomized Central vs. Southern Andes\"},\n",
    "                  hist_kws={\"histtype\": \"step\", \"linewidth\": 1,\n",
    "                            \"alpha\": 1, \"color\": \"g\"})\n",
    "\n",
    "plt.axvline(x=distancias_subarea['central andes']['southern andes'],linestyle='--',color='gold',label=r'Central vs. Southern Andes')\n",
    "plt.legend(loc='best',fontsize=7)\n",
    "plt.xlabel(r'Hamming distance',fontsize=15)\n",
    "plt.ylabel(r'frequency',fontsize=15)\n",
    "plt.rcParams.update({'font.size': 10})\n",
    "plt.savefig('centralvssouthernandes.jpg', format='jpg', transparent=True, bbox_inches='tight',dpi=800)\n",
    "plt.show()"
   ]
  },
  {
   "cell_type": "code",
   "execution_count": null,
   "metadata": {},
   "outputs": [],
   "source": [
    "D['allentiac']"
   ]
  },
  {
   "cell_type": "code",
   "execution_count": null,
   "metadata": {},
   "outputs": [],
   "source": [
    "D['millcayac']"
   ]
  },
  {
   "cell_type": "code",
   "execution_count": null,
   "metadata": {},
   "outputs": [],
   "source": [
    "D_lenguas = {lengua:{} for lengua in D.keys()}\n",
    "\n",
    "for lengua in D.keys():\n",
    "    for lengua_lengua in D.keys():\n",
    "        lengua_feat = D[lengua]\n",
    "        lengua_lengua_feat = D[lengua_lengua]\n",
    "        D_lenguas[lengua][lengua_lengua]=hamming(lengua,lengua_lengua)"
   ]
  },
  {
   "cell_type": "code",
   "execution_count": null,
   "metadata": {},
   "outputs": [],
   "source": [
    "D_andinas = {lengua:{} for lengua in group_area['andes']}\n",
    "\n",
    "for lengua in group_area['andes']:\n",
    "    for lengua_lengua in group_area['andes']:\n",
    "        lengua_feat = D[lengua]\n",
    "        lengua_lengua_feat = D[lengua_lengua]\n",
    "        D_andinas[lengua][lengua_lengua]=hamming(lengua,lengua_lengua)"
   ]
  },
  {
   "cell_type": "code",
   "execution_count": null,
   "metadata": {},
   "outputs": [],
   "source": [
    "D_andinas['mapudungun']"
   ]
  },
  {
   "cell_type": "code",
   "execution_count": null,
   "metadata": {},
   "outputs": [],
   "source": [
    "## en X guardamos todas las listas de rasgos\n",
    "\n",
    "X=[]\n",
    "for language in D_lenguas.keys():\n",
    "    X+=[list(D_lenguas[language].values())]"
   ]
  },
  {
   "cell_type": "code",
   "execution_count": null,
   "metadata": {},
   "outputs": [],
   "source": [
    "## en X guardamos todas las listas de rasgos\n",
    "\n",
    "X_and=[]\n",
    "for language in D_andinas.keys():\n",
    "    X_and+=[list(D_andinas[language].values())]"
   ]
  },
  {
   "cell_type": "code",
   "execution_count": null,
   "metadata": {},
   "outputs": [],
   "source": [
    "from sklearn.manifold import TSNE\n",
    "\n",
    "model = TSNE(n_components=2, perplexity=15, random_state=0, metric='precomputed',square_distances=True)\n",
    "X = model.fit_transform(X)"
   ]
  },
  {
   "cell_type": "code",
   "execution_count": null,
   "metadata": {},
   "outputs": [],
   "source": [
    "model = TSNE(n_components=2, perplexity=5, random_state=0, metric='precomputed',square_distances=True)\n",
    "X_and = model.fit_transform(X_and)"
   ]
  },
  {
   "cell_type": "code",
   "execution_count": null,
   "metadata": {},
   "outputs": [],
   "source": [
    "#from sklearn.decomposition import PCA\n",
    "#transformer = PCA(n_components=3)\n",
    "#X = transformer.fit_transform(X)"
   ]
  },
  {
   "cell_type": "code",
   "execution_count": null,
   "metadata": {},
   "outputs": [],
   "source": [
    "x=list(zip(*list(X)))[0]\n",
    "y=list(zip(*list(X)))[1]"
   ]
  },
  {
   "cell_type": "code",
   "execution_count": null,
   "metadata": {},
   "outputs": [],
   "source": [
    "x_and=list(zip(*list(X_and)))[0]\n",
    "y_and=list(zip(*list(X_and)))[1]"
   ]
  },
  {
   "cell_type": "code",
   "execution_count": null,
   "metadata": {},
   "outputs": [],
   "source": [
    "dominio_number=4\n",
    "\n",
    "import matplotlib.pyplot as plt\n",
    "\n",
    "cmap = plt.get_cmap('RdBu')\n",
    "\n",
    "fig, ax = plt.subplots(dpi=800)\n",
    "\n",
    "for i in range(len(x)):\n",
    "    ax.annotate(list(D.keys())[i], weight='demi', color='k', xy=(x[i],y[i]), fontsize=4, alpha=0.65)\n",
    "#    ax.annotate(labels[i], weight='demi', color='r', xy=(x[i]-1.5,y[i]-1.5), fontsize=4, alpha=0.85)\n",
    "\n",
    "ax.plot([x[i] for i in [list(D.keys()).index(language) for language in D.keys()]],[y[i] for i in [list(D.keys()).index(language) for language in D.keys()]],'o',color='gold',markersize=5,markeredgewidth=0.5,markeredgecolor='k',alpha=0.75,fillstyle='full',clip_on=True)\n",
    "\n",
    "#ax.plot([x[i] for i in [list(L.keys()).index(language) for language in L.keys() if family[language] in ['Mayan','Otomanguean']]],[y[i] for i in [list(L.keys()).index(language) for language in L.keys() if family[language] in ['Mayan','Otomanguean']]],'X',color='m',markersize=6,markeredgewidth=0.5,markeredgecolor='k',alpha=0.75,fillstyle='full',clip_on=True,label='Maya+Otomangue')\n",
    "#ax.plot([x[i] for i in [list(G.nodes()).index(language) for language in G.nodes() if language in id_family.keys() and macroarea[glotto_iso[language]]=='South America']],[y[i] for i in [list(G.nodes()).index(language) for language in G.nodes() if language in id_family.keys() and macroarea[glotto_iso[language]]=='South America']],'H',color='orange',markersize=5,markeredgewidth=0.5,markeredgecolor=None,alpha=0.85,fillstyle='full',clip_on=True,label='South America')\n",
    "#ax.plot([x[i] for i in [list(G.nodes()).index(language) for language in G.nodes() if language in id_family.keys() and macroarea[glotto_iso[language]]=='North America']],[y[i] for i in [list(G.nodes()).index(language) for language in G.nodes() if language in id_family.keys() and macroarea[glotto_iso[language]]=='North America']],'o',color='lime',markersize=5,markeredgewidth=0.5,markeredgecolor=None,alpha=0.85,fillstyle='full',clip_on=True,label='North America')\n",
    "\n",
    "plt.grid(False)\n",
    "plt.title('Clustering for domain '+str(dominio_number),fontsize=10)\n",
    "ax.set_yticks([])\n",
    "ax.set_xticks([])\n",
    "#plt.legend(loc='best',fontsize=7)\n",
    "plt.ylabel(r'dimension 2',fontsize=10)\n",
    "plt.xlabel(r'dimension 1',fontsize=10)\n",
    "plt.rcParams.update({'font.size': 10})\n",
    "plt.savefig('2D/PCA_'+str(dominio_number)+'.jpg', format='jpg', transparent=True, bbox_inches='tight',dpi=800)\n",
    "plt.show()"
   ]
  },
  {
   "cell_type": "code",
   "execution_count": null,
   "metadata": {},
   "outputs": [],
   "source": [
    "dominio_number=4\n",
    "\n",
    "import matplotlib.pyplot as plt\n",
    "\n",
    "cmap = plt.get_cmap('RdBu')\n",
    "\n",
    "fig, ax = plt.subplots(dpi=800)\n",
    "\n",
    "for i in range(len(x_and)):\n",
    "    ax.annotate(list(D_andinas.keys())[i], weight='demi', color='k', xy=(x_and[i],y_and[i]), fontsize=4, alpha=0.65)\n",
    "#    ax.annotate(labels[i], weight='demi', color='r', xy=(x[i]-1.5,y[i]-1.5), fontsize=4, alpha=0.85)\n",
    "\n",
    "ax.plot([x_and[i] for i in [list(D_andinas.keys()).index(language) for language in D_andinas.keys()]],[y_and[i] for i in [list(D_andinas.keys()).index(language) for language in D_andinas.keys()]],'o',color='gold',markersize=5,markeredgewidth=0.5,markeredgecolor='k',alpha=0.75,fillstyle='full',clip_on=True)\n",
    "\n",
    "#ax.plot([x[i] for i in [list(L.keys()).index(language) for language in L.keys() if family[language] in ['Mayan','Otomanguean']]],[y[i] for i in [list(L.keys()).index(language) for language in L.keys() if family[language] in ['Mayan','Otomanguean']]],'X',color='m',markersize=6,markeredgewidth=0.5,markeredgecolor='k',alpha=0.75,fillstyle='full',clip_on=True,label='Maya+Otomangue')\n",
    "#ax.plot([x[i] for i in [list(G.nodes()).index(language) for language in G.nodes() if language in id_family.keys() and macroarea[glotto_iso[language]]=='South America']],[y[i] for i in [list(G.nodes()).index(language) for language in G.nodes() if language in id_family.keys() and macroarea[glotto_iso[language]]=='South America']],'H',color='orange',markersize=5,markeredgewidth=0.5,markeredgecolor=None,alpha=0.85,fillstyle='full',clip_on=True,label='South America')\n",
    "#ax.plot([x[i] for i in [list(G.nodes()).index(language) for language in G.nodes() if language in id_family.keys() and macroarea[glotto_iso[language]]=='North America']],[y[i] for i in [list(G.nodes()).index(language) for language in G.nodes() if language in id_family.keys() and macroarea[glotto_iso[language]]=='North America']],'o',color='lime',markersize=5,markeredgewidth=0.5,markeredgecolor=None,alpha=0.85,fillstyle='full',clip_on=True,label='North America')\n",
    "\n",
    "plt.grid(False)\n",
    "plt.title('Clustering for domain '+str(dominio_number),fontsize=10)\n",
    "ax.set_yticks([])\n",
    "ax.set_xticks([])\n",
    "#plt.legend(loc='best',fontsize=7)\n",
    "plt.ylabel(r'dimension 2',fontsize=10)\n",
    "plt.xlabel(r'dimension 1',fontsize=10)\n",
    "plt.rcParams.update({'font.size': 10})\n",
    "#plt.savefig('2D/PCA_'+str(dominio_number)+'.jpg', format='jpg', transparent=True, bbox_inches='tight',dpi=800)\n",
    "plt.show()"
   ]
  },
  {
   "cell_type": "code",
   "execution_count": null,
   "metadata": {},
   "outputs": [],
   "source": [
    "from sklearn.metrics import silhouette_score\n",
    "from sklearn.cluster import KMeans\n",
    "\n",
    "range_n_clusters = [2, 3, 4, 5, 6, 7, 8, 9, 10]\n",
    "S = []\n",
    "for n_clusters in range_n_clusters:\n",
    "    \n",
    "    cluster = KMeans(n_clusters=n_clusters, random_state=0).fit(X)\n",
    "    labels = cluster.labels_\n",
    "    silhouette_avg = silhouette_score(X, labels)\n",
    "    S.append(silhouette_avg)\n",
    "    print(\"For n_clusters =\", n_clusters,\"The average silhouette_score is :\", silhouette_avg)"
   ]
  },
  {
   "cell_type": "code",
   "execution_count": null,
   "metadata": {},
   "outputs": [],
   "source": [
    "fig, ax = plt.subplots(dpi=800)\n",
    "\n",
    "ax.plot(range_n_clusters, S, linewidth=0.5, marker='o',color='orange',markersize=5,markeredgecolor='k',markeredgewidth=1,fillstyle='full',clip_on=True)\n",
    "plt.xlabel(r'number of clusters',fontsize=12)\n",
    "plt.ylabel(r'silhoutte coefficient',fontsize=12)\n",
    "plt.rcParams.update({'font.size': 10})\n",
    "plt.savefig('2D/pca_evaluacion_custering.pdf', format='pdf', transparent=True, bbox_inches='tight',dpi=800)\n",
    "plt.show()"
   ]
  },
  {
   "cell_type": "code",
   "execution_count": null,
   "metadata": {},
   "outputs": [],
   "source": [
    "kmeans = KMeans(n_clusters=2, random_state=0).fit(X)\n",
    "labels = kmeans.labels_"
   ]
  },
  {
   "cell_type": "code",
   "execution_count": null,
   "metadata": {},
   "outputs": [],
   "source": [
    "labels"
   ]
  },
  {
   "cell_type": "code",
   "execution_count": null,
   "metadata": {},
   "outputs": [],
   "source": [
    "labels_dict=dict(zip(list(D.keys()),labels))"
   ]
  },
  {
   "cell_type": "code",
   "execution_count": null,
   "metadata": {},
   "outputs": [],
   "source": [
    "labels_dict"
   ]
  },
  {
   "cell_type": "code",
   "execution_count": null,
   "metadata": {},
   "outputs": [],
   "source": [
    "x=list(zip(*list(X)))[0]\n",
    "y=list(zip(*list(X)))[1]"
   ]
  },
  {
   "cell_type": "code",
   "execution_count": null,
   "metadata": {},
   "outputs": [],
   "source": []
  },
  {
   "cell_type": "code",
   "execution_count": null,
   "metadata": {},
   "outputs": [],
   "source": [
    "dominio_number=4\n",
    "\n",
    "areas = pd.read_csv('areas.csv',sep=',')\n",
    "lenguas = [name.lower() for name in list(areas['lengua'])]\n",
    "areas_dict = {}\n",
    "for i in list(areas.index):\n",
    "    if areas.loc[i,'lengua'].lower()=='moseten':\n",
    "        areas_dict['moseten']=[areas.loc[i,'sub-area'].lower(),areas.loc[i,'birchall-areas'].lower(),areas.loc[i,'birchall-east-west'].lower(),areas.loc[i,'area'].lower()]\n",
    "    else:\n",
    "        areas_dict[areas.loc[i,'lengua'].lower()]=[areas.loc[i,'sub-area'].lower(),areas.loc[i,'birchall-areas'].lower(),areas.loc[i,'birchall-east-west'].lower(),areas.loc[i,'area'].lower()]\n",
    "    #nombres = list(D.columns)\n",
    "import matplotlib.pyplot as plt\n",
    "\n",
    "cmap = plt.get_cmap('RdBu')\n",
    "\n",
    "fig, ax = plt.subplots(dpi=800)\n",
    "\n",
    "hipotesis = 0\n",
    "\n",
    "for i in range(len(x)):\n",
    "    if hipotesis==0:\n",
    "        if list(D.keys())[i]=='cavineã±a':\n",
    "            arreglo='cavineña'\n",
    "            ax.annotate(areas_dict[arreglo], color='k', xy=(x[i],y[i]), fontsize=5, alpha=0.65)\n",
    "        else:\n",
    "            ax.annotate(list(D.keys())[i], color='k', xy=(x[i],y[i]), fontsize=5, alpha=0.65)\n",
    "    else:\n",
    "        if list(D.keys())[i]=='cavineã±a':\n",
    "            arreglo='cavineña'\n",
    "            ax.annotate(areas_dict[arreglo][hipotesis-1], color='k', xy=(x[i],y[i]), fontsize=5, alpha=0.65)\n",
    "        else:\n",
    "            ax.annotate(areas_dict[list(D.keys())[i]][hipotesis-1], weight='demi', color='k', xy=(x[i],y[i]), fontsize=4, alpha=0.65)\n",
    "    #ax.annotate(labels[i], weight='demi', color='r', xy=(x[i]-1.5,y[i]-1.5), fontsize=4, alpha=0.85)\n",
    "\n",
    "ax.plot([x[i] for i in [list(D.keys()).index(language) for language in D.keys() if labels_dict[language]==0]],[y[i] for i in [list(D.keys()).index(language) for language in D.keys() if labels_dict[language]==0]],'o',color='gold',markersize=5,markeredgewidth=0.5,markeredgecolor='gold',alpha=0.75,fillstyle='full',clip_on=True,label='cluster 0')\n",
    "ax.plot([x[i] for i in [list(D.keys()).index(language) for language in D.keys() if labels_dict[language]==1]],[y[i] for i in [list(D.keys()).index(language) for language in D.keys() if labels_dict[language]==1]],'o',color='cyan',markersize=5,markeredgewidth=0.5,markeredgecolor='cyan',alpha=0.75,fillstyle='full',clip_on=True,label='cluster 1')\n",
    "\n",
    "ax.plot([x[i] for i in [list(D.keys()).index(language) for language in D.keys() if areas_dict[language][3].strip()=='andes']],[y[i] for i in [list(D.keys()).index(language) for language in D.keys() if areas_dict[language][3].strip()=='andes']],'x',color='k',markersize=7,markeredgewidth=0.5,markeredgecolor='k',alpha=0.75,fillstyle='full',clip_on=True,label='Andean languages')\n",
    "\n",
    "#ax.plot([x[i] for i in [list(D.keys()).index(language) for language in D.keys() if labels_dict[language]==2]],[y[i] for i in [list(D.keys()).index(language) for language in D.keys() if labels_dict[language]==2]],'D',color='fuchsia',markersize=5,markeredgewidth=0.5,markeredgecolor='k',alpha=0.75,fillstyle='full',clip_on=True,label='cluster 2')\n",
    "\n",
    "#ax.plot([x[i] for i in [list(L.keys()).index(language) for language in L.keys() if family[language] in ['Mayan','Otomanguean']]],[y[i] for i in [list(L.keys()).index(language) for language in L.keys() if family[language] in ['Mayan','Otomanguean']]],'X',color='m',markersize=6,markeredgewidth=0.5,markeredgecolor='k',alpha=0.75,fillstyle='full',clip_on=True,label='Maya+Otomangue')\n",
    "#ax.plot([x[i] for i in [list(G.nodes()).index(language) for language in G.nodes() if language in id_family.keys() and macroarea[glotto_iso[language]]=='South America']],[y[i] for i in [list(G.nodes()).index(language) for language in G.nodes() if language in id_family.keys() and macroarea[glotto_iso[language]]=='South America']],'H',color='orange',markersize=5,markeredgewidth=0.5,markeredgecolor=None,alpha=0.85,fillstyle='full',clip_on=True,label='South America')\n",
    "#ax.plot([x[i] for i in [list(G.nodes()).index(language) for language in G.nodes() if language in id_family.keys() and macroarea[glotto_iso[language]]=='North America']],[y[i] for i in [list(G.nodes()).index(language) for language in G.nodes() if language in id_family.keys() and macroarea[glotto_iso[language]]=='North America']],'o',color='lime',markersize=5,markeredgewidth=0.5,markeredgecolor=None,alpha=0.85,fillstyle='full',clip_on=True,label='North America')\n",
    "\n",
    "plt.grid(False)\n",
    "plt.title('Low-dimensional representation of languages of South America',fontsize=10)\n",
    "ax.set_yticks([])\n",
    "ax.set_xticks([])\n",
    "plt.legend(loc='best',fontsize=7)\n",
    "plt.ylabel(r'dimension 2',fontsize=10)\n",
    "plt.xlabel(r'dimension 1',fontsize=10)\n",
    "plt.rcParams.update({'font.size': 10})\n",
    "plt.savefig('hipotesis/PCAclustering_4_'+str(hipotesis)+'.jpg', format='jpg', transparent=True, bbox_inches='tight',dpi=800)\n",
    "plt.show()"
   ]
  },
  {
   "cell_type": "code",
   "execution_count": null,
   "metadata": {},
   "outputs": [],
   "source": [
    "world = geopandas.read_file(geopandas.datasets.get_path('naturalearth_lowres'))"
   ]
  },
  {
   "cell_type": "code",
   "execution_count": null,
   "metadata": {},
   "outputs": [],
   "source": [
    "world = world[world['continent']=='South America']"
   ]
  },
  {
   "cell_type": "code",
   "execution_count": null,
   "metadata": {},
   "outputs": [],
   "source": [
    "x, y, codes = languoid['Longitude'].values, languoid['Latitude'].values, languoid['ID'].values"
   ]
  },
  {
   "cell_type": "code",
   "execution_count": null,
   "metadata": {},
   "outputs": [],
   "source": [
    "codes = [glotto_lenguas[L] for L in codes]"
   ]
  },
  {
   "cell_type": "code",
   "execution_count": null,
   "metadata": {},
   "outputs": [],
   "source": [
    "labels_dict.keys()"
   ]
  },
  {
   "cell_type": "code",
   "execution_count": null,
   "metadata": {},
   "outputs": [],
   "source": [
    "len(x),len(D)"
   ]
  },
  {
   "cell_type": "code",
   "execution_count": null,
   "metadata": {},
   "outputs": [],
   "source": [
    "import matplotlib.pyplot as plt\n",
    "\n",
    "fig, ax = plt.subplots(dpi=800)\n",
    "\n",
    "ax.set_aspect('equal')\n",
    "plt.title('Geographic distribution of clusters',fontsize=7)\n",
    "world.plot(ax=ax, color='white', edgecolor='salmon',linewidth=0.2)\n",
    "#cities.plot(ax=ax, marker='o', color='red', markersize=5)\n",
    "ax.plot([x[i] for i in [codes.index(language) for language in codes if language in labels_dict.keys() and labels_dict[language]==0]],[y[i] for i in [codes.index(language) for language in codes if language in labels_dict.keys() and labels_dict[language]==0]],'o',color='gold',markersize=5,markeredgewidth=0.5,markeredgecolor='gold',alpha=0.75,fillstyle='full',clip_on=True,label='cluster 0')\n",
    "ax.plot([x[i] for i in [codes.index(language) for language in codes if language in labels_dict.keys() and labels_dict[language]==1]],[y[i] for i in [codes.index(language) for language in codes if language in labels_dict.keys() and labels_dict[language]==1]],'o',color='cyan',markersize=5,markeredgewidth=0.5,markeredgecolor='cyan',alpha=0.75,fillstyle='full',clip_on=True,label='cluster 1')\n",
    "\n",
    "ax.plot([x[i] for i in [codes.index(language) for language in codes if areas_dict[language][3].strip()=='andes']],[y[i] for i in [codes.index(language) for language in codes if areas_dict[language][3].strip()=='andes']],'x',color='k',markersize=5,markeredgewidth=0.25,markeredgecolor='k',alpha=0.75,fillstyle='full',clip_on=True,label='Andean languages')\n",
    "\n",
    "#for i in range(len(x)):\n",
    "#        ax.annotate(codes[i], color='k', xy=(x[i],y[i]), fontsize=2, alpha=0.65)\n",
    "        \n",
    "plt.legend(loc='best',fontsize=5)\n",
    "ax.set_yticks([])\n",
    "ax.set_xticks([])\n",
    "plt.savefig('maps/mapa_clusters.jpg', format='jpg', transparent=True, bbox_inches='tight',dpi=800)\n",
    "plt.show()"
   ]
  },
  {
   "cell_type": "code",
   "execution_count": null,
   "metadata": {},
   "outputs": [],
   "source": [
    "areas_dict"
   ]
  },
  {
   "cell_type": "markdown",
   "metadata": {},
   "source": [
    "### Arealidad de los rasgos!"
   ]
  },
  {
   "cell_type": "code",
   "execution_count": null,
   "metadata": {},
   "outputs": [],
   "source": [
    "## filter group_dict\n",
    "\n",
    "group_dict = {n:[k for k in labels_dict.keys() if labels_dict[k] == n] for n in set(labels_dict.values())}"
   ]
  },
  {
   "cell_type": "code",
   "execution_count": null,
   "metadata": {},
   "outputs": [],
   "source": [
    "group_dict"
   ]
  },
  {
   "cell_type": "code",
   "execution_count": null,
   "metadata": {},
   "outputs": [],
   "source": [
    "## formato sklearn!\n",
    "\n",
    "#X = [list(D[language].values()) for language in D.keys() if language in labels_dict.keys()]\n",
    "y = [labels_dict[language] for language in D.keys() if language in labels_dict.keys()]"
   ]
  },
  {
   "cell_type": "code",
   "execution_count": null,
   "metadata": {},
   "outputs": [],
   "source": [
    "X"
   ]
  },
  {
   "cell_type": "code",
   "execution_count": null,
   "metadata": {},
   "outputs": [],
   "source": [
    "y"
   ]
  },
  {
   "cell_type": "markdown",
   "metadata": {},
   "source": [
    "#### manera 1: trees!"
   ]
  },
  {
   "cell_type": "code",
   "execution_count": null,
   "metadata": {},
   "outputs": [],
   "source": [
    "from sklearn.ensemble import ExtraTreesClassifier\n",
    "\n",
    "forest = ExtraTreesClassifier(n_estimators=250,random_state=0)"
   ]
  },
  {
   "cell_type": "code",
   "execution_count": null,
   "metadata": {},
   "outputs": [],
   "source": [
    "forest.fit(X, y)\n",
    "importances = dict(zip(D[list(D.keys())[0]].keys(),forest.feature_importances_))"
   ]
  },
  {
   "cell_type": "code",
   "execution_count": null,
   "metadata": {},
   "outputs": [],
   "source": [
    "## ordenamos los rasgos de mayor a menor importancia!\n",
    "\n",
    "importances = {k: v for k, v in sorted(importances.items(), key=lambda item: item[1],reverse=True)}"
   ]
  },
  {
   "cell_type": "code",
   "execution_count": null,
   "metadata": {},
   "outputs": [],
   "source": [
    "importances"
   ]
  },
  {
   "cell_type": "markdown",
   "metadata": {},
   "source": [
    "#### manera 2: kbest!"
   ]
  },
  {
   "cell_type": "code",
   "execution_count": null,
   "metadata": {},
   "outputs": [],
   "source": [
    "from sklearn.feature_selection import SelectKBest, chi2\n",
    "kbest = SelectKBest(chi2, k='all').fit(X, y)"
   ]
  },
  {
   "cell_type": "code",
   "execution_count": null,
   "metadata": {},
   "outputs": [],
   "source": [
    "importances = dict(zip(D[list(D.keys())[0]].keys(),kbest.scores_))"
   ]
  },
  {
   "cell_type": "code",
   "execution_count": null,
   "metadata": {},
   "outputs": [],
   "source": [
    "## ordenamos los rasgos de mayor a menor importancia!\n",
    "\n",
    "importances = {k: v for k, v in sorted(importances.items(), key=lambda item: item[1],reverse=True)}"
   ]
  },
  {
   "cell_type": "code",
   "execution_count": null,
   "metadata": {},
   "outputs": [],
   "source": [
    "importances"
   ]
  },
  {
   "cell_type": "code",
   "execution_count": null,
   "metadata": {},
   "outputs": [],
   "source": []
  },
  {
   "cell_type": "code",
   "execution_count": null,
   "metadata": {},
   "outputs": [],
   "source": []
  },
  {
   "cell_type": "code",
   "execution_count": null,
   "metadata": {},
   "outputs": [],
   "source": []
  },
  {
   "cell_type": "code",
   "execution_count": null,
   "metadata": {},
   "outputs": [],
   "source": []
  }
 ],
 "metadata": {
  "kernelspec": {
   "display_name": "Python 3 (ipykernel)",
   "language": "python",
   "name": "python3"
  },
  "language_info": {
   "codemirror_mode": {
    "name": "ipython",
    "version": 3
   },
   "file_extension": ".py",
   "mimetype": "text/x-python",
   "name": "python",
   "nbconvert_exporter": "python",
   "pygments_lexer": "ipython3",
   "version": "3.9.18"
  },
  "toc": {
   "base_numbering": 1,
   "nav_menu": {},
   "number_sections": false,
   "sideBar": false,
   "skip_h1_title": false,
   "title_cell": "Table of Contents",
   "title_sidebar": "Contents",
   "toc_cell": false,
   "toc_position": {},
   "toc_section_display": false,
   "toc_window_display": false
  }
 },
 "nbformat": 4,
 "nbformat_minor": 4
}
