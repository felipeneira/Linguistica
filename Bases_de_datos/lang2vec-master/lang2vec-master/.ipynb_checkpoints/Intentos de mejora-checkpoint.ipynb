{
 "cells": [
  {
   "cell_type": "markdown",
   "id": "3f75c05d",
   "metadata": {},
   "source": [
    "# Herramientas necesarias"
   ]
  },
  {
   "cell_type": "code",
   "execution_count": null,
   "id": "f0325382",
   "metadata": {},
   "outputs": [],
   "source": [
    "import pandas as pd\n",
    "##abrir el archivo .csv\n",
    "df = pd.read_csv(r'C:\\Users\\fneir\\Downloads\\lang2vec-master\\lang2vec-master\\lenguas.csv')\n",
    "##separar el .csv por \";\" y generar dos columnas, una con el nombre de la lengua y otra con el isocode de la misma\n",
    "df[['lengua','isocode']] = df['lengua;isocode'].str.split(';', expand=True)\n",
    "##eliminar la columna sobrante (urgente simplificar código)\n",
    "Lenguas_Andinas=df.drop(['lengua;isocode'], axis=1)\n",
    "GLOTTOCODE1= pd.read_csv(r'C:\\Users\\fneir\\Downloads\\lang2vec-master\\lang2vec-master\\GLOTTOCODE.csv', on_bad_lines='skip')\n",
    "##Separar columnas\n",
    "GLOTTOCODE1[['GLOTTOCODE','Name','ISOCODE']] = GLOTTOCODE1['GLOTTOCODE;Name;ISOCODE'].str.split(';', expand=True)\n",
    "##eliminar la columna sobrante (urgente simplificar código)\n",
    "GLOTTOCODE = GLOTTOCODE1.drop(['GLOTTOCODE;Name;ISOCODE'], axis=1)\n",
    "GLOTTO_ISO1 = []\n",
    "GLOTTO_ISO1 += set(list(Lenguas_Andinas['isocode'])) & set(list(GLOTTOCODE['ISOCODE']))\n",
    "GLOTTO_ISO1 = list(filter(None, GLOTTO_ISO1))\n",
    "GLOTTO_ISO = GLOTTOCODE[GLOTTOCODE.ISOCODE.isin(GLOTTO_ISO1)]"
   ]
  },
  {
   "cell_type": "code",
   "execution_count": null,
   "id": "88fa1663",
   "metadata": {},
   "outputs": [],
   "source": [
    "##X Corresponde al nombre del archivo\n",
    "##Y Corresponde al nombre que se usará luego en python\n",
    "def abrir_archivo(X,Y):\n",
    "    Y = pd.read_csv(X, on_bad_lines='skip')\n",
    "    return Y"
   ]
  },
  {
   "cell_type": "code",
   "execution_count": 77,
   "id": "4875bfbc",
   "metadata": {},
   "outputs": [],
   "source": [
    "##X corresponde al archivo .csv ya abierto\n",
    "##Y1, Y2, Y3 corresponden a los nombres de las columnas\n",
    "##Z corresponde al nombre del resultado (no es muy relevante)\n",
    "def ordenar_datos2(X, Y1, Y2, Z):\n",
    "    X[[Y1,Y2]] = X[Y1+';'+Y2].str.split(';', expand=True)\n",
    "    Z=X.drop([Y1+';'+Y2], axis = 1)\n",
    "    return Z"
   ]
  },
  {
   "cell_type": "code",
   "execution_count": 64,
   "id": "bbba1b0f",
   "metadata": {},
   "outputs": [],
   "source": [
    "##X corresponde al archivo .csv ya abierto\n",
    "##Y1, Y2, Y3 corresponden a los nombres de las columnas\n",
    "##Z corresponde al nombre del resultado (no es muy relevante)\n",
    "def ordenar_datos3(X, Y1, Z, Y2, Y3):\n",
    "    X[[Y1,Y2,Y3]] = X[Y1+';'+Y2+';'+Y3].str.split(';', expand=True)\n",
    "    Z=X.drop([Y1+';'+Y2+';'+Y3], axis = 1)\n",
    "    return Z"
   ]
  },
  {
   "cell_type": "code",
   "execution_count": 91,
   "id": "4b7ff616",
   "metadata": {},
   "outputs": [],
   "source": [
    "def lenguas_en_corpus(X, Y1, Z1, Y2, Z2):\n",
    "    X = set(list(Y1[\"'\"+Z1+\"'\"])) & set(list(Y2[Z2]))\n",
    "    X = Y1[Y1.Z1.isin(X)]\n",
    "    return Resultados\n",
    "    "
   ]
  },
  {
   "cell_type": "code",
   "execution_count": 94,
   "id": "e7999ce5",
   "metadata": {},
   "outputs": [
    {
     "ename": "NameError",
     "evalue": "name 'isocode' is not defined",
     "output_type": "error",
     "traceback": [
      "\u001b[1;31m---------------------------------------------------------------------------\u001b[0m",
      "\u001b[1;31mNameError\u001b[0m                                 Traceback (most recent call last)",
      "\u001b[1;32m~\\AppData\\Local\\Temp/ipykernel_19612/9537578.py\u001b[0m in \u001b[0;36m<module>\u001b[1;34m\u001b[0m\n\u001b[0;32m      1\u001b[0m \u001b[0mlenguas_en_URIEL\u001b[0m\u001b[1;33m=\u001b[0m \u001b[1;33m[\u001b[0m\u001b[1;33m]\u001b[0m\u001b[1;33m\u001b[0m\u001b[1;33m\u001b[0m\u001b[0m\n\u001b[1;32m----> 2\u001b[1;33m \u001b[0mURIEL\u001b[0m \u001b[1;33m=\u001b[0m \u001b[0mlenguas_en_corpus\u001b[0m\u001b[1;33m(\u001b[0m\u001b[0mlenguas_en_URIEL\u001b[0m\u001b[1;33m,\u001b[0m \u001b[0mLenguas_Andinas\u001b[0m\u001b[1;33m,\u001b[0m\u001b[0misocode\u001b[0m\u001b[1;33m,\u001b[0m \u001b[0mGLOTTOCODE\u001b[0m\u001b[1;33m,\u001b[0m\u001b[1;34m'ISOCODE'\u001b[0m\u001b[1;33m)\u001b[0m\u001b[1;33m\u001b[0m\u001b[1;33m\u001b[0m\u001b[0m\n\u001b[0m",
      "\u001b[1;31mNameError\u001b[0m: name 'isocode' is not defined"
     ]
    }
   ],
   "source": [
    "lenguas_en_URIEL= []\n",
    "URIEL = lenguas_en_corpus(lenguas_en_URIEL, Lenguas_Andinas,'isocode', GLOTTOCODE,'ISOCODE')"
   ]
  },
  {
   "cell_type": "code",
   "execution_count": null,
   "id": "6b2c6169",
   "metadata": {},
   "outputs": [],
   "source": [
    "lenguas_en_URIEL = []\n",
    "lenguas_en_URIEL += set(list(Lenguas_Andinas['isocode'])) & l2v.URIEL_LANGUAGES\n",
    "Resultados_URIEL = Lenguas_Andinas[Lenguas_Andinas.isocode.isin(lenguas_en_URIEL)]\n",
    "Resultados_URIEL"
   ]
  }
 ],
 "metadata": {
  "kernelspec": {
   "display_name": "Python 3 (ipykernel)",
   "language": "python",
   "name": "python3"
  },
  "language_info": {
   "codemirror_mode": {
    "name": "ipython",
    "version": 3
   },
   "file_extension": ".py",
   "mimetype": "text/x-python",
   "name": "python",
   "nbconvert_exporter": "python",
   "pygments_lexer": "ipython3",
   "version": "3.9.7"
  }
 },
 "nbformat": 4,
 "nbformat_minor": 5
}
